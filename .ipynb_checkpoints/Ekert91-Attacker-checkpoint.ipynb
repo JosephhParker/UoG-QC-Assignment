{
 "cells": [
  {
   "cell_type": "markdown",
   "id": "02ffe586-9ad4-4cfe-9c8c-8dfc840f910a",
   "metadata": {},
   "source": [
    "### Required Imports"
   ]
  },
  {
   "cell_type": "code",
   "execution_count": null,
   "id": "77c0196e-4446-4466-951c-13e1b59f9642",
   "metadata": {},
   "outputs": [],
   "source": [
    "%pip install qiskit==1.2.4\n",
    "%pip install qiskit-aer==0.15.1\n",
    "%pip install pylatexenc==2.10\n",
    "\n",
    "from qiskit import QuantumCircuit\n",
    "from qiskit.converters import circuit_to_gate\n",
    "from qiskit.visualization import array_to_latex\n",
    "from qiskit.quantum_info import Operator\n",
    "from qiskit.quantum_info import Statevector\n",
    "from qiskit import transpile \n",
    "from qiskit.providers.basic_provider import BasicSimulator\n",
    "from qiskit.visualization import plot_histogram\n",
    "from qiskit.circuit import ControlledGate\n",
    "import math \n",
    "\n",
    "# The aim of the assignment is to simulate the Ekert91 key distribution protocol.\n",
    "# This notebook is for a simulation of the protocol with an attacker, to demonstrate that the attacker can be detected."
   ]
  },
  {
   "cell_type": "markdown",
   "id": "6359c116-04d8-40bf-8f98-f868e6e63093",
   "metadata": {},
   "source": [
    "### Circuit Construction\n",
    "Constructs the circuits required for each measurement, along with the unitary matrices required for transformations of each kind."
   ]
  },
  {
   "cell_type": "code",
   "execution_count": 11,
   "id": "65675ae0-34f0-40db-ba96-b2649e826bb7",
   "metadata": {},
   "outputs": [],
   "source": [
    "root2 = math.sqrt(2)\n",
    "denom1 = math.sqrt(4 + 2*root2)\n",
    "denom2 = math.sqrt(4 - 2*root2) \n",
    "\n",
    "W_transform_matrix = [[ -1 / denom1  ,  (1 + root2) / denom1  ],\n",
    "                      [  1 / denom2  ,  (root2 - 1) / denom2  ]]\n",
    "\n",
    "V_transform_matrix = [[  1 / denom1  ,  (1 + root2) / denom1  ], \n",
    "                      [ -1 / denom2  ,  (root2 - 1) / denom2  ] ]\n",
    "\n",
    "#---------------------------------------------------------------------------------\n",
    "def get_entangled_pair(disrupted = False):\n",
    "\n",
    "    if disrupted:\n",
    "        q = QuantumCircuit(3) \n",
    "        q.h(0)\n",
    "        q.cx(0,1)\n",
    "    \n",
    "        #boo!!\n",
    "        q.cx(0, 2)\n",
    "        return q\n",
    "    \n",
    "    #get a new entangled pair\n",
    "    q = QuantumCircuit(2) \n",
    "    q.h(0)\n",
    "    q.cx(0,1)\n",
    "\n",
    "    #return entangled pair\n",
    "    return q\n",
    "#---------------------------------------------------------------------------------\n",
    "def construct_circuit(entangled_pair, operators):\n",
    "    \n",
    "    #construct the appropriate circuit to match the operators\n",
    "    for qubit, operator in enumerate(operators):\n",
    "        if operator == \"z\": continue\n",
    "        if operator == \"x\": entangled_pair.h(qubit)\n",
    "        if operator == \"w\": entangled_pair.unitary(W_transform_matrix,[qubit])\n",
    "        if operator == \"v\": entangled_pair.unitary(V_transform_matrix,[qubit])\n",
    "    \n",
    "    #return circuit\n",
    "    return entangled_pair"
   ]
  },
  {
   "cell_type": "markdown",
   "id": "fb74d866-88f2-430e-af5f-14667754b737",
   "metadata": {},
   "source": [
    "### Circuit Measurement\n",
    "simulates the measurement of a circuit with simulate_measurement(circuit). Parameter options for varying shots, defaulting to one."
   ]
  },
  {
   "cell_type": "code",
   "execution_count": 3,
   "id": "09310439-1177-475d-a9e1-1e6354505e2c",
   "metadata": {},
   "outputs": [],
   "source": [
    "def simulate_measurement(circuit, shots = 1):\n",
    "    \n",
    "    #simulate measurements\n",
    "    backend = BasicSimulator()\n",
    "    compiled = transpile(circuit, backend)\n",
    "    job_sim = backend.run(compiled, shots=shots)\n",
    "    result_sim = job_sim.result()\n",
    "\n",
    "    #return the result\n",
    "    return result_sim.get_counts(compiled)"
   ]
  },
  {
   "cell_type": "markdown",
   "id": "4ffbf68a-29b4-44bb-88d1-aec918bda78a",
   "metadata": {},
   "source": [
    "### Random Entry From Array\n",
    "(when len(arr) = 3, i = 0, T_transform_matrix is of the required state for a 1/3 probability)"
   ]
  },
  {
   "cell_type": "code",
   "execution_count": 4,
   "id": "754953e4-4091-43a4-8a20-76a6df7f699e",
   "metadata": {},
   "outputs": [],
   "source": [
    "#returns a random entry of arr\n",
    "def get_random_entry(arr, i = 0):\n",
    "\n",
    "    #get total entries left to consider\n",
    "    entries = len(arr) - i\n",
    "\n",
    "    #handle base cases\n",
    "    if entries == 0: raise IndexError (\"tried to get entry from empty array\")\n",
    "    if entries == 1: return arr[i]\n",
    "\n",
    "    #get transform matrix to give 1/(remaining entries) probability of selecting next entry\n",
    "    T_transform_matrix = [[  1/math.sqrt(entries)        ,  math.sqrt((entries-1)/entries)],\n",
    "                          [  math.sqrt((entries-1)/entries),  - 1/math.sqrt(entries)]]\n",
    "    \n",
    "    # get a new circuit of this type\n",
    "    circuit = QuantumCircuit(1)\n",
    "    circuit.unitary(T_transform_matrix,[0])\n",
    "    \n",
    "    #measure circuit\n",
    "    circuit.measure_all() \n",
    "\n",
    "    #simulate measurement and return current index if selected, else get random index from remaining indexes\n",
    "    return arr[i] if simulate_measurement(circuit).get(\"0\",0) == 1 else get_random_entry(arr, i+1)"
   ]
  },
  {
   "cell_type": "markdown",
   "id": "29896811-8ae6-48ef-8743-eb71eb5195a4",
   "metadata": {},
   "source": [
    "### Entanglement Testing\n",
    "\n",
    "Collates each pair of measurements (of the appropriate types) into the average for each pair over all repetitions. Combines and returns true with entanglement_test(S) if value is within a certain allowance."
   ]
  },
  {
   "cell_type": "code",
   "execution_count": 21,
   "id": "6ad716ef-6050-499e-a837-9b37f35ff3f9",
   "metadata": {},
   "outputs": [],
   "source": [
    "measurement_map = {\"00\":1, \"01\": -1, \"10\":-1, \"11\":1}\n",
    "\n",
    "def average(circuits, bits = 2): \n",
    "\n",
    "    #return the average result of simulating each circuit, considering only the first 'bits' bits, \n",
    "    #and converted to +-1 with measurement_map\n",
    "    \n",
    "    return sum([measurement_map.get(next(iter(simulate_measurement(circuit)))[:bits], 0) \n",
    "                for circuit in circuits]) / len(circuits)\n",
    "    \n",
    "def entanglement_test(S, allowance = (2*math.sqrt(2)-2), no_allowance = False):\n",
    "\n",
    "    #get the average of each component of S, and inverse the case ('x', 'y')\n",
    "    averages = [average(circuits) * (-1 if (a, b) == ('x', 'v') else 1) \n",
    "                for (a, b), circuits in S.items()]\n",
    "\n",
    "    #calculate the absolute value of the sum of averages, |S|\n",
    "    abs_s = abs(sum(averages))\n",
    "    print(f\"|S|: {abs_s}\")\n",
    "\n",
    "    #if no error to be raised when result outwith allowance, return early\n",
    "    if no_allowance: return True\n",
    "\n",
    "    #assert if |S| in close enough to 2*root2\n",
    "    assert abs_s >= (2*math.sqrt(2)) - allowance, \"entanglement has been disrupted.\""
   ]
  },
  {
   "cell_type": "markdown",
   "id": "bd059d53-e939-48da-bfcb-cb78577f935e",
   "metadata": {},
   "source": [
    "### Ekert 91 Protocol"
   ]
  },
  {
   "cell_type": "code",
   "execution_count": 22,
   "id": "10367bd7-8b54-48a6-87db-90fcacdd5c70",
   "metadata": {},
   "outputs": [
    {
     "name": "stdout",
     "output_type": "stream",
     "text": [
      "|S|: 1.640749601275917\n",
      "shared key of length 28: 1100110010011011000101011010\n",
      "\n",
      "|S|: 1.0546218487394956\n",
      "shared key of length 30: 001100000101011100000110000100\n",
      "\n",
      "|S|: 1.1999999999999997\n",
      "shared key of length 40: 1001110000010011111110100001010100000111\n",
      "\n",
      "|S|: 1.1073232323232323\n",
      "shared key of length 26: 10011101100011100001010011\n",
      "\n",
      "|S|: 2.1142857142857143\n",
      "shared key of length 34: 1000010110000001011101000011011001\n",
      "\n",
      "|S|: 1.4981299402352033\n",
      "shared key of length 20: 00100010011101001010\n",
      "\n",
      "|S|: 1.7714285714285714\n",
      "shared key of length 30: 001011101000000000111000000111\n",
      "\n",
      "|S|: 1.383537229361028\n",
      "shared key of length 24: 101100001101101000001110\n",
      "\n",
      "|S|: 1.5027777777777778\n",
      "shared key of length 30: 111101101101101100010001000101\n",
      "\n"
     ]
    }
   ],
   "source": [
    "alice_operators = (a1:='x', a2:='w', a3:='z')\n",
    "bob_operators = (b1:='w', b2:='z', b3:='v')\n",
    "\n",
    "def get_alice_bit(circuit):\n",
    "    \n",
    "    #simulate circuit\n",
    "    return int(next(iter(simulate_measurement(circuit)))[0])\n",
    "\n",
    "def ekert91_protocol(key_length):\n",
    "\n",
    "    #for each repetition\n",
    "    repetition_measurements = []\n",
    "    for repetition in range(int (9 * key_length / 2)):\n",
    "        \n",
    "        #1\n",
    "#---------------------------------------------------------------------------------\n",
    "        ab_pair = get_entangled_pair(disrupted=True)\n",
    "#---------------------------------------------------------------------------------\n",
    "        \n",
    "        #2-3\n",
    "        a_op = get_random_entry(alice_operators)\n",
    "        b_op = get_random_entry(bob_operators)\n",
    "\n",
    "        #4-5\n",
    "        circuit = construct_circuit(ab_pair, (a_op, b_op)) \n",
    "        circuit.measure_all()\n",
    "\n",
    "        #save measurement data\n",
    "        repetition_measurements.append((a_op, b_op, circuit))\n",
    "\n",
    "    S = {}\n",
    "    shared_key = \"\"\n",
    "    for a_op, b_op, circuit in repetition_measurements:\n",
    "        \n",
    "        #if bases are the same, use for key\n",
    "        if a_op == b_op:\n",
    "            shared_key += str(get_alice_bit(circuit))\n",
    "\n",
    "        #else if case forms S, save for calculation of S\n",
    "        elif (pair:=(a_op, b_op)) in ((a1,b1),(a1,b3),(a3,b1),(a3,b3)):\n",
    "            if pair not in S: S[(a_op, b_op)] = []\n",
    "            S[pair].append(circuit)\n",
    "\n",
    "    entanglement_test(S, no_allowance=True)\n",
    "    print(f\"shared key of length {len(shared_key)}: {shared_key}\\n\")\n",
    "    \n",
    "ekert91_protocol(32) #1\n",
    "ekert91_protocol(32) #2\n",
    "ekert91_protocol(32) #3\n",
    "ekert91_protocol(32) #4\n",
    "ekert91_protocol(32) #5\n",
    "ekert91_protocol(32) #6\n",
    "ekert91_protocol(32) #7\n",
    "ekert91_protocol(32) #8\n",
    "ekert91_protocol(32) #9"
   ]
  },
  {
   "cell_type": "code",
   "execution_count": null,
   "id": "9abef473-b8cc-4db6-9d7b-5b9a26fc7381",
   "metadata": {},
   "outputs": [],
   "source": []
  }
 ],
 "metadata": {
  "kernelspec": {
   "display_name": "Python 3 [qBraid]",
   "language": "python",
   "name": "python3_qbraid_sdk_9j9sjy"
  },
  "language_info": {
   "codemirror_mode": {
    "name": "ipython",
    "version": 3
   },
   "file_extension": ".py",
   "mimetype": "text/x-python",
   "name": "python",
   "nbconvert_exporter": "python",
   "pygments_lexer": "ipython3",
   "version": "3.11.9"
  }
 },
 "nbformat": 4,
 "nbformat_minor": 5
}
