{
 "cells": [
  {
   "cell_type": "markdown",
   "id": "02ffe586-9ad4-4cfe-9c8c-8dfc840f910a",
   "metadata": {},
   "source": [
    "### Required Imports"
   ]
  },
  {
   "cell_type": "code",
   "execution_count": 1,
   "id": "77c0196e-4446-4466-951c-13e1b59f9642",
   "metadata": {},
   "outputs": [
    {
     "name": "stdout",
     "output_type": "stream",
     "text": [
      "Requirement already satisfied: qiskit==1.2.4 in /home/jovyan/.qbraid/environments/qbraid_sdk_9j9sjy/pyenv/lib/python3.11/site-packages (1.2.4)\n",
      "Requirement already satisfied: rustworkx>=0.15.0 in /home/jovyan/.qbraid/environments/qbraid_sdk_9j9sjy/pyenv/lib/python3.11/site-packages (from qiskit==1.2.4) (0.15.1)\n",
      "Requirement already satisfied: numpy<3,>=1.17 in /home/jovyan/.qbraid/environments/qbraid_sdk_9j9sjy/pyenv/lib/python3.11/site-packages (from qiskit==1.2.4) (1.26.4)\n",
      "Requirement already satisfied: scipy>=1.5 in /home/jovyan/.qbraid/environments/qbraid_sdk_9j9sjy/pyenv/lib/python3.11/site-packages (from qiskit==1.2.4) (1.14.1)\n",
      "Requirement already satisfied: sympy>=1.3 in /home/jovyan/.qbraid/environments/qbraid_sdk_9j9sjy/pyenv/lib/python3.11/site-packages (from qiskit==1.2.4) (1.13.3)\n",
      "Requirement already satisfied: dill>=0.3 in /home/jovyan/.qbraid/environments/qbraid_sdk_9j9sjy/pyenv/lib/python3.11/site-packages (from qiskit==1.2.4) (0.3.9)\n",
      "Requirement already satisfied: python-dateutil>=2.8.0 in /home/jovyan/.qbraid/environments/qbraid_sdk_9j9sjy/pyenv/lib/python3.11/site-packages (from qiskit==1.2.4) (2.9.0.post0)\n",
      "Requirement already satisfied: stevedore>=3.0.0 in /home/jovyan/.qbraid/environments/qbraid_sdk_9j9sjy/pyenv/lib/python3.11/site-packages (from qiskit==1.2.4) (5.3.0)\n",
      "Requirement already satisfied: typing-extensions in /home/jovyan/.qbraid/environments/qbraid_sdk_9j9sjy/pyenv/lib/python3.11/site-packages (from qiskit==1.2.4) (4.12.2)\n",
      "Requirement already satisfied: symengine<0.14,>=0.11 in /home/jovyan/.qbraid/environments/qbraid_sdk_9j9sjy/pyenv/lib/python3.11/site-packages (from qiskit==1.2.4) (0.13.0)\n",
      "Requirement already satisfied: six>=1.5 in /home/jovyan/.qbraid/environments/qbraid_sdk_9j9sjy/pyenv/lib/python3.11/site-packages (from python-dateutil>=2.8.0->qiskit==1.2.4) (1.16.0)\n",
      "Requirement already satisfied: pbr>=2.0.0 in /home/jovyan/.qbraid/environments/qbraid_sdk_9j9sjy/pyenv/lib/python3.11/site-packages (from stevedore>=3.0.0->qiskit==1.2.4) (6.1.0)\n",
      "Requirement already satisfied: mpmath<1.4,>=1.1.0 in /home/jovyan/.qbraid/environments/qbraid_sdk_9j9sjy/pyenv/lib/python3.11/site-packages (from sympy>=1.3->qiskit==1.2.4) (1.3.0)\n",
      "\n",
      "\u001b[1m[\u001b[0m\u001b[34;49mnotice\u001b[0m\u001b[1;39;49m]\u001b[0m\u001b[39;49m A new release of pip is available: \u001b[0m\u001b[31;49m24.3.1\u001b[0m\u001b[39;49m -> \u001b[0m\u001b[32;49m25.0.1\u001b[0m\n",
      "\u001b[1m[\u001b[0m\u001b[34;49mnotice\u001b[0m\u001b[1;39;49m]\u001b[0m\u001b[39;49m To update, run: \u001b[0m\u001b[32;49mpython -m pip install --upgrade pip\u001b[0m\n",
      "Note: you may need to restart the kernel to use updated packages.\n",
      "Requirement already satisfied: qiskit-aer==0.15.1 in /home/jovyan/.qbraid/environments/qbraid_sdk_9j9sjy/pyenv/lib/python3.11/site-packages (0.15.1)\n",
      "Requirement already satisfied: qiskit>=1.1.0 in /home/jovyan/.qbraid/environments/qbraid_sdk_9j9sjy/pyenv/lib/python3.11/site-packages (from qiskit-aer==0.15.1) (1.2.4)\n",
      "Requirement already satisfied: numpy>=1.16.3 in /home/jovyan/.qbraid/environments/qbraid_sdk_9j9sjy/pyenv/lib/python3.11/site-packages (from qiskit-aer==0.15.1) (1.26.4)\n",
      "Requirement already satisfied: scipy>=1.0 in /home/jovyan/.qbraid/environments/qbraid_sdk_9j9sjy/pyenv/lib/python3.11/site-packages (from qiskit-aer==0.15.1) (1.14.1)\n",
      "Requirement already satisfied: psutil>=5 in /opt/conda/lib/python3.11/site-packages (from qiskit-aer==0.15.1) (5.9.8)\n",
      "Requirement already satisfied: rustworkx>=0.15.0 in /home/jovyan/.qbraid/environments/qbraid_sdk_9j9sjy/pyenv/lib/python3.11/site-packages (from qiskit>=1.1.0->qiskit-aer==0.15.1) (0.15.1)\n",
      "Requirement already satisfied: sympy>=1.3 in /home/jovyan/.qbraid/environments/qbraid_sdk_9j9sjy/pyenv/lib/python3.11/site-packages (from qiskit>=1.1.0->qiskit-aer==0.15.1) (1.13.3)\n",
      "Requirement already satisfied: dill>=0.3 in /home/jovyan/.qbraid/environments/qbraid_sdk_9j9sjy/pyenv/lib/python3.11/site-packages (from qiskit>=1.1.0->qiskit-aer==0.15.1) (0.3.9)\n",
      "Requirement already satisfied: python-dateutil>=2.8.0 in /home/jovyan/.qbraid/environments/qbraid_sdk_9j9sjy/pyenv/lib/python3.11/site-packages (from qiskit>=1.1.0->qiskit-aer==0.15.1) (2.9.0.post0)\n",
      "Requirement already satisfied: stevedore>=3.0.0 in /home/jovyan/.qbraid/environments/qbraid_sdk_9j9sjy/pyenv/lib/python3.11/site-packages (from qiskit>=1.1.0->qiskit-aer==0.15.1) (5.3.0)\n",
      "Requirement already satisfied: typing-extensions in /home/jovyan/.qbraid/environments/qbraid_sdk_9j9sjy/pyenv/lib/python3.11/site-packages (from qiskit>=1.1.0->qiskit-aer==0.15.1) (4.12.2)\n",
      "Requirement already satisfied: symengine<0.14,>=0.11 in /home/jovyan/.qbraid/environments/qbraid_sdk_9j9sjy/pyenv/lib/python3.11/site-packages (from qiskit>=1.1.0->qiskit-aer==0.15.1) (0.13.0)\n",
      "Requirement already satisfied: six>=1.5 in /home/jovyan/.qbraid/environments/qbraid_sdk_9j9sjy/pyenv/lib/python3.11/site-packages (from python-dateutil>=2.8.0->qiskit>=1.1.0->qiskit-aer==0.15.1) (1.16.0)\n",
      "Requirement already satisfied: pbr>=2.0.0 in /home/jovyan/.qbraid/environments/qbraid_sdk_9j9sjy/pyenv/lib/python3.11/site-packages (from stevedore>=3.0.0->qiskit>=1.1.0->qiskit-aer==0.15.1) (6.1.0)\n",
      "Requirement already satisfied: mpmath<1.4,>=1.1.0 in /home/jovyan/.qbraid/environments/qbraid_sdk_9j9sjy/pyenv/lib/python3.11/site-packages (from sympy>=1.3->qiskit>=1.1.0->qiskit-aer==0.15.1) (1.3.0)\n",
      "\n",
      "\u001b[1m[\u001b[0m\u001b[34;49mnotice\u001b[0m\u001b[1;39;49m]\u001b[0m\u001b[39;49m A new release of pip is available: \u001b[0m\u001b[31;49m24.3.1\u001b[0m\u001b[39;49m -> \u001b[0m\u001b[32;49m25.0.1\u001b[0m\n",
      "\u001b[1m[\u001b[0m\u001b[34;49mnotice\u001b[0m\u001b[1;39;49m]\u001b[0m\u001b[39;49m To update, run: \u001b[0m\u001b[32;49mpython -m pip install --upgrade pip\u001b[0m\n",
      "Note: you may need to restart the kernel to use updated packages.\n",
      "Requirement already satisfied: pylatexenc==2.10 in /home/jovyan/.qbraid/environments/qbraid_sdk_9j9sjy/pyenv/lib/python3.11/site-packages (2.10)\n",
      "\n",
      "\u001b[1m[\u001b[0m\u001b[34;49mnotice\u001b[0m\u001b[1;39;49m]\u001b[0m\u001b[39;49m A new release of pip is available: \u001b[0m\u001b[31;49m24.3.1\u001b[0m\u001b[39;49m -> \u001b[0m\u001b[32;49m25.0.1\u001b[0m\n",
      "\u001b[1m[\u001b[0m\u001b[34;49mnotice\u001b[0m\u001b[1;39;49m]\u001b[0m\u001b[39;49m To update, run: \u001b[0m\u001b[32;49mpython -m pip install --upgrade pip\u001b[0m\n",
      "Note: you may need to restart the kernel to use updated packages.\n"
     ]
    }
   ],
   "source": [
    "%pip install qiskit==1.2.4\n",
    "%pip install qiskit-aer==0.15.1\n",
    "%pip install pylatexenc==2.10\n",
    "\n",
    "from qiskit import QuantumCircuit\n",
    "from qiskit.converters import circuit_to_gate\n",
    "from qiskit.visualization import array_to_latex\n",
    "from qiskit.quantum_info import Operator\n",
    "from qiskit.quantum_info import Statevector\n",
    "from qiskit import transpile \n",
    "from qiskit.providers.basic_provider import BasicSimulator\n",
    "from qiskit.visualization import plot_histogram\n",
    "from qiskit.circuit import ControlledGate\n",
    "import math \n",
    "\n",
    "# The aim of the assignment is to simulate the Ekert91 key distribution protocol.\n",
    "# This notebook is for a simulation of the protocol without an attacker."
   ]
  },
  {
   "cell_type": "markdown",
   "id": "4ffbf68a-29b4-44bb-88d1-aec918bda78a",
   "metadata": {},
   "source": [
    "### Random Entry From Array\n",
    "(when len(arr) = 3, i = 0, T_transform_matrix is of the required state for a 1/3 probability)"
   ]
  },
  {
   "cell_type": "code",
   "execution_count": 2,
   "id": "754953e4-4091-43a4-8a20-76a6df7f699e",
   "metadata": {},
   "outputs": [],
   "source": [
    "#returns a random entry of arr\n",
    "def get_random_entry(arr, i = 0):\n",
    "\n",
    "    #get total entries left to consider\n",
    "    entries = len(arr) - i\n",
    "\n",
    "    #handle base cases\n",
    "    if entries == 0: raise IndexError (\"tried to get entry from empty array\")\n",
    "    if entries == 1: return arr[i]\n",
    "\n",
    "    #get transform matrix to give 1/(remaining entries) probability of selecting next entry\n",
    "    T_transform_matrix = [[  1/math.sqrt(entries)        ,  math.sqrt((entries-1)/entries)],\n",
    "                          [  math.sqrt((entries-1)/entries),  - 1/math.sqrt(entries)]]\n",
    "    \n",
    "    # get a new circuit of this type\n",
    "    circuit = QuantumCircuit(1,1)\n",
    "    circuit.unitary(T_transform_matrix,[0])\n",
    "    \n",
    "    #simulate measurement\n",
    "    circuit.measure([0],[0]) \n",
    "    backend = BasicSimulator()\n",
    "    qc_compiled = transpile(circuit, backend)\n",
    "    result_sim = backend.run(qc_compiled, shots=1).result()\n",
    "\n",
    "    #get the result of measurement\n",
    "    result = int(next(iter(result_sim.get_counts(qc_compiled))))\n",
    "\n",
    "    #return current index if selected, else get random index from remaining indexes\n",
    "    return arr[i] if int(next(iter(result_sim.get_counts(qc_compiled)))) == 0 else get_random_entry(arr, i+1)"
   ]
  },
  {
   "cell_type": "markdown",
   "id": "6359c116-04d8-40bf-8f98-f868e6e63093",
   "metadata": {},
   "source": [
    "### Circuit Construction"
   ]
  },
  {
   "cell_type": "code",
   "execution_count": 11,
   "id": "65675ae0-34f0-40db-ba96-b2649e826bb7",
   "metadata": {},
   "outputs": [],
   "source": [
    "root2 = math.sqrt(2)\n",
    "denom1 = math.sqrt(4 + 2*root2)\n",
    "denom2 = math.sqrt(4 - 2*root2) \n",
    "\n",
    "W_transform_matrix = [[ -1 / denom1  ,  (1 + root2) / denom1  ],\n",
    "                      [  1 / denom2  ,  (root2 - 1) / denom2  ]]\n",
    "\n",
    "V_transform_matrix = [[  1 / denom1  ,  (1 + root2) / denom1  ], \n",
    "                      [ -1 / denom2  ,  (root2 - 1) / denom2  ] ]\n",
    "\n",
    "#---------------------------------------------------------------------------------\n",
    "def get_entangled_pair(disrupted = False):\n",
    "\n",
    "    if disrupted:\n",
    "        q = QuantumCircuit(3) \n",
    "        q.h(0)\n",
    "        q.cx(0,1)\n",
    "    \n",
    "        #boo!!\n",
    "        q.cx(0, 2)\n",
    "        return q\n",
    "    \n",
    "    #get a new entangled pair\n",
    "    q = QuantumCircuit(2) \n",
    "    q.h(0)\n",
    "    q.cx(0,1)\n",
    "\n",
    "    #return entanlged pair\n",
    "    return q\n",
    "#---------------------------------------------------------------------------------\n",
    "\n",
    "def construct_circuit(entangled_pair, operators):\n",
    "    \n",
    "    #construct the appropriate circuit to match the operators\n",
    "    for qubit, operator in enumerate(operators):\n",
    "        if operator == \"z\": continue\n",
    "        if operator == \"x\": entangled_pair.h(qubit)\n",
    "        if operator == \"w\": entangled_pair.unitary(W_transform_matrix,[qubit])\n",
    "        if operator == \"v\": entangled_pair.unitary(V_transform_matrix,[qubit])\n",
    "    \n",
    "    #return circuit\n",
    "    return entangled_pair"
   ]
  },
  {
   "cell_type": "markdown",
   "id": "fb74d866-88f2-430e-af5f-14667754b737",
   "metadata": {},
   "source": [
    "### Circuit Measurement"
   ]
  },
  {
   "cell_type": "code",
   "execution_count": 4,
   "id": "09310439-1177-475d-a9e1-1e6354505e2c",
   "metadata": {},
   "outputs": [],
   "source": [
    "def average(c,n): \n",
    "\n",
    "    #simulate measurements\n",
    "    backend = BasicSimulator()\n",
    "    compiled = transpile(c, backend)\n",
    "    job_sim = backend.run(compiled, shots=n)\n",
    "    result_sim = job_sim.result() \n",
    "    counts = result_sim.get_counts(compiled)\n",
    "\n",
    "    #record results\n",
    "    count00 = counts.get(\"00\",0) \n",
    "    count01 = counts.get(\"01\",0) \n",
    "    count10 = counts.get(\"10\",0) \n",
    "    count11 = counts.get(\"11\",0) \n",
    "\n",
    "    #return average result\n",
    "    return (count00 - count01 - count10 + count11) / n "
   ]
  },
  {
   "cell_type": "markdown",
   "id": "29896811-8ae6-48ef-8743-eb71eb5195a4",
   "metadata": {},
   "source": [
    "### Entanglement Testing"
   ]
  },
  {
   "cell_type": "code",
   "execution_count": 9,
   "id": "6ad716ef-6050-499e-a837-9b37f35ff3f9",
   "metadata": {},
   "outputs": [],
   "source": [
    "def calculate_abs_s(a_op, b_op, circuit, n=100):\n",
    "\n",
    "\n",
    "    #produce missing circuits for S\n",
    "    circuits = [(ax, bx, construct_circuit(get_entangled_pair(), (ax, bx))) \n",
    "                for ax in ('x', 'z') for bx in ('w', 'v')  if (ax, bx) != (a_op, b_op)]\n",
    "\n",
    "    #measure both qubits for all circuits\n",
    "    for _, _, c in circuits: c.measure_all() \n",
    "\n",
    "    #get average for each circuit, flip for XV\n",
    "    circuits.append((a_op, b_op, circuit))\n",
    "    averages = [average(c, n) * (-1 if (a, b) == ('x', 'v') else 1) \n",
    "                for a, b, c in circuits]\n",
    "\n",
    "    #return abs|S|\n",
    "    return abs(sum(averages))\n",
    "\n",
    "def entangled_test(a_op, b_op, circuit, allowance = 0.5):\n",
    "\n",
    "    #|return true if |S| in desired range of sqrt(2)\n",
    "    return calculate_abs_s(a_op, b_op, circuit) >= (2*math.sqrt(2)) - allowance"
   ]
  },
  {
   "cell_type": "markdown",
   "id": "bd059d53-e939-48da-bfcb-cb78577f935e",
   "metadata": {},
   "source": [
    "### Ekert 91 Protocol"
   ]
  },
  {
   "cell_type": "code",
   "execution_count": 10,
   "id": "10367bd7-8b54-48a6-87db-90fcacdd5c70",
   "metadata": {},
   "outputs": [
    {
     "name": "stdout",
     "output_type": "stream",
     "text": [
      "entanglement has been disrupted.\n",
      "entanglement has been disrupted.\n",
      "entanglement has been disrupted.\n",
      "add to key!\n",
      "entanglement has been disrupted.\n",
      "add to key!\n",
      "entanglement has been disrupted.\n",
      "entanglement has been disrupted.\n",
      "add to key!\n",
      "entanglement has been disrupted.\n",
      "entanglement has been disrupted.\n",
      "entanglement has been disrupted.\n",
      "entanglement has been disrupted.\n",
      "entanglement has been disrupted.\n",
      "entanglement has been disrupted.\n",
      "entanglement has been disrupted.\n",
      "add to key!\n",
      "entanglement has been disrupted.\n",
      "add to key!\n",
      "add to key!\n",
      "add to key!\n",
      "add to key!\n",
      "add to key!\n",
      "add to key!\n",
      "add to key!\n",
      "entanglement has been disrupted.\n"
     ]
    }
   ],
   "source": [
    "N = 10\n",
    "\n",
    "alice_operators = (a1:='x', a2:='w', a3:='z')\n",
    "bob_operators = (b1:='w', b2:='z', b3:='v')\n",
    "\n",
    "def ekert91_protocol_attacker(key_length):\n",
    "    repetitions = int (9 * key_length / 2)\n",
    "\n",
    "    final_key = []\n",
    "    for repetition in range(repetitions):\n",
    "        \n",
    "        #1\n",
    "#---------------------------------------------------------------------------------\n",
    "        ab_pair = get_entangled_pair(disrupted=True)\n",
    "#---------------------------------------------------------------------------------\n",
    "\n",
    "        #2-3\n",
    "        a_op = get_random_entry(alice_operators)\n",
    "        b_op = get_random_entry(bob_operators)\n",
    "\n",
    "        #4-5\n",
    "        circuit = construct_circuit(ab_pair, (a_op, b_op)) \n",
    "        circuit.measure_all() \n",
    "\n",
    "        #if bases are the same, use for key\n",
    "        if a_op == b_op:\n",
    "            print(\"add to key!\")\n",
    "\n",
    "        #else if case forms S, perform entanglement test\n",
    "        elif (a_op, b_op) in ((a1,b1),(a1,b3),(a3,b1),(a3,b3)): \n",
    "           if not entangled_test(a_op, b_op, circuit): print(\"entanglement has been disrupted.\")\n",
    "\n",
    "ekert91_protocol_attacker(10)"
   ]
  },
  {
   "cell_type": "code",
   "execution_count": null,
   "id": "e7f09909-6f91-4111-a710-bd79147e1c91",
   "metadata": {},
   "outputs": [],
   "source": []
  }
 ],
 "metadata": {
  "kernelspec": {
   "display_name": "Python 3 [qBraid]",
   "language": "python",
   "name": "python3_qbraid_sdk_9j9sjy"
  },
  "language_info": {
   "codemirror_mode": {
    "name": "ipython",
    "version": 3
   },
   "file_extension": ".py",
   "mimetype": "text/x-python",
   "name": "python",
   "nbconvert_exporter": "python",
   "pygments_lexer": "ipython3",
   "version": "3.11.9"
  }
 },
 "nbformat": 4,
 "nbformat_minor": 5
}
